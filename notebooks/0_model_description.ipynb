{
 "cells": [
  {
   "cell_type": "markdown",
   "metadata": {},
   "source": [
    "# Overview\n",
    "\n",
    "In this project, we forecast new ICU admissions for Covid-19. These forecasts may help to better plan the allocation of equipment and personnel. We use two datasets:\n",
    "\n",
    "- Italian cases, from the [Italian Civil Protection Department](https://github.com/pcm-dpc/COVID-19).\n",
    "- German cases from the [Robert Koch Institute](https://www.rki.de/DE/Content/InfAZ/N/Neuartiges_Coronavirus/Fallzahlen.html).\n",
    "\n",
    "New ICU cases are predicted as a fraction of the current number of ICU cases. The quantity of interest is the ratio between the number of existing cases and of new cases. It shows how quickly the virus is spreading and can be used to evaluate the efficacy of mitigating measures. The model is not meant as a substitute for epidemiological modelling, but rather as a simplified approximation that ideally allows for good real-time forecasting."
   ]
  },
  {
   "cell_type": "markdown",
   "metadata": {},
   "source": [
    "## Model"
   ]
  },
  {
   "cell_type": "markdown",
   "metadata": {},
   "source": [
    "The total number of ICU cases in region $i$ at time $t$ is\n",
    "$$\n",
    "x_{i,t} = \\sum_{s<t}y_{i,s},\n",
    "$$\n",
    "and the new daily ICU cases are\n",
    "$$\n",
    "y_{i,t}\\sim\\mathcal{Pois}\\left(\\lambda_{i,t}\\right).\n",
    "$$\n",
    "The conditional mean is \n",
    "$$\n",
    "\\lambda_{i,t}=x_{i,t-1}\\exp\\left(\\omega_{i,t}\\right).\n",
    "$$\n",
    "\n",
    "#### Dynamics of $\\omega$\n",
    "\n",
    "We allow for two evolution paths. The first is\n",
    "$$\n",
    "\\omega_{i,t} = \\alpha + \\beta \\omega_{i,t-1} + \\gamma's_{i,t-1},\n",
    "$$\n",
    "where the $s_{i,t-1}$ are signals. In the second model, $\\omega$ follows a \"unit root\",\n",
    "$$\n",
    "\\omega_{i,t} = \\omega_{i,t-1} + \\gamma's_{i,t-1}.\n",
    "$$"
   ]
  },
  {
   "cell_type": "markdown",
   "metadata": {},
   "source": [
    "### Signals\n",
    "\n",
    "#### Score\n",
    "\n",
    "For signals, we use exogenous factors, as well as a correction factor given by the scaled score of the likelihood function with respect to $\\omega_{i,t}$. The log likelihood for an observation is:\n",
    "$$\n",
    "\\ell = y_{i,t} \\log(\\lambda_{i,t}) - \\lambda_{i,t} - \\log(y_{i,t}!),\n",
    "$$\n",
    "and its derivative with respect to $\\omega_{i,t}$ is\n",
    "$$\n",
    "\\frac{\\partial \\ell}{\\partial \\omega} = y_{i,t} - \\lambda_{i,t}.\n",
    "$$\n",
    "It is convenient to scale this value by the square root of the Fisher information. The Fisher information is\n",
    "$$\n",
    "\\mathbb{E}_{t-1}\\left[-\\frac{\\partial^2 \\ell}{\\partial \\omega^2}\\right] =  \\lambda_{i,t}^2,\n",
    "$$\n",
    "so the appropriately scaled signal is\n",
    "$$\n",
    "s_{i,t-1,0} = \\frac{y_{i,t} - \\lambda_{i,t}}{\\sqrt{\\lambda_{i,t}}}.\n",
    "$$\n",
    "\n",
    "#### Other information\n",
    "\n",
    "In future iterations, we will evaluate whether further health information such as the number of deceased, number of positive tests, etc., improves predictions.\n",
    "\n",
    "#### Interventions\n",
    "\n",
    "$\\omega$ is an indicator of the speed at which the decease at which the decease spreads. We cane evaluate the efficacy of measures such as school closures and shutdowns by comparing $\\omega$ over time and between regions. Furthermore, regional differences between model predictions and realized value help evaluate measures taken on the regional level."
   ]
  }
 ],
 "metadata": {
  "kernelspec": {
   "display_name": "Python 3",
   "language": "python",
   "name": "python3"
  },
  "language_info": {
   "codemirror_mode": {
    "name": "ipython",
    "version": 3
   },
   "file_extension": ".py",
   "mimetype": "text/x-python",
   "name": "python",
   "nbconvert_exporter": "python",
   "pygments_lexer": "ipython3",
   "version": "3.7.6"
  }
 },
 "nbformat": 4,
 "nbformat_minor": 4
}
