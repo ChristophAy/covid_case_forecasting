{
 "cells": [
  {
   "cell_type": "code",
   "execution_count": 1,
   "metadata": {},
   "outputs": [],
   "source": [
    "import pandas as pd\n",
    "import os"
   ]
  },
  {
   "cell_type": "markdown",
   "metadata": {},
   "source": [
    "### Wikipedia manual pull"
   ]
  },
  {
   "cell_type": "code",
   "execution_count": 69,
   "metadata": {},
   "outputs": [],
   "source": [
    "path = os.path.join(os.getcwd(), '..', 'data')\n",
    "infected = pd.read_csv(os.path.join(path, 'confirmed_infections_RKI_DE.csv'))\n",
    "infected['Date'] = pd.to_datetime(infected['Date'], dayfirst=True)\n",
    "infected = pd.melt(infected, id_vars='Date', var_name='region_code', value_name='cases_pos_total')\n",
    "infected.rename(columns={'Date' : 'date'}, inplace=True)\n",
    "deaths = pd.read_csv(os.path.join(path, 'deaths_RKI_DE.csv'))\n",
    "deaths['Date'] = pd.to_datetime(deaths['Date'], dayfirst=True)\n",
    "deaths = pd.melt(deaths, id_vars='Date', var_name='region_code', value_name='cases_deceased')\n",
    "deaths.rename(columns={'Date' : 'date'}, inplace=True)\n",
    "demographic_info = pd.read_csv(os.path.join(path, 'demographic_info.csv'))\n",
    "demographic_info.rename(columns={'Land' : 'region_code',\n",
    "                                 'lat' : 'region_latitude',\n",
    "                                 'long' : 'region_longitude',\n",
    "                                 'Name' : 'region_name'}, inplace=True)\n",
    "\n",
    "max_inf = infected['date'].max()\n",
    "max_dea = deaths['date'].max()\n",
    "min_max_date = min(max_inf, max_dea)\n",
    "combined = pd.merge(infected.loc[infected['date'] <= min_max_date],\n",
    "                    deaths.loc[deaths['date'] <= min_max_date],\n",
    "                    left_on=['date', 'region_code'],\n",
    "                    right_on=['date', 'region_code'], how='left')\n",
    "combined.fillna(0, inplace=True)\n",
    "combined = pd.merge(combined, demographic_info, left_on='region_code', right_on='region_code', how='left')\n",
    "combined['country'] = 'DE'\n",
    "\n",
    "combined['cases_pos_new'] = 0\n",
    "for c in combined['region_code'].unique():\n",
    "    combined['cases_pos_new'].loc[combined['region_code'] == c] = combined['cases_pos_total'].loc[combined['region_code'] == c].diff()\n",
    "\n",
    "combined.to_csv(os.path.join(path, 'DE_combined_wiki.csv'), index=False)"
   ]
  },
  {
   "cell_type": "markdown",
   "metadata": {},
   "source": [
    "### Download cases data"
   ]
  },
  {
   "cell_type": "markdown",
   "metadata": {},
   "source": [
    "https://npgeo-corona-npgeo-de.hub.arcgis.com/datasets/dd4580c810204019a7b8eb3e0b329dd6_0/data?orderBy=AnzahlFall&orderByAsc=false"
   ]
  },
  {
   "cell_type": "code",
   "execution_count": 101,
   "metadata": {},
   "outputs": [
    {
     "name": "stderr",
     "output_type": "stream",
     "text": [
      "/Users/christoph/anaconda3/envs/covid_forecasting/lib/python3.6/site-packages/pandas/core/indexing.py:671: SettingWithCopyWarning: \n",
      "A value is trying to be set on a copy of a slice from a DataFrame\n",
      "\n",
      "See the caveats in the documentation: https://pandas.pydata.org/pandas-docs/stable/user_guide/indexing.html#returning-a-view-versus-a-copy\n",
      "  self._setitem_with_indexer(indexer, value)\n"
     ]
    }
   ],
   "source": [
    "LOAD_FROM_URL = True\n",
    "\n",
    "if LOAD_FROM_URL:\n",
    "    url = 'https://opendata.arcgis.com/datasets/dd4580c810204019a7b8eb3e0b329dd6_0.geojson'\n",
    "    out = pd.read_json(url)\n",
    "\n",
    "    keys = out['features'].iloc[0]['properties'].keys()\n",
    "    new_df_dict = {}\n",
    "    for k in keys:\n",
    "        new_df_dict[k] = []\n",
    "    for i in range(out.shape[0]):\n",
    "        for k in keys:\n",
    "            new_df_dict[k].append(out['features'].iloc[i]['properties'][k])\n",
    "    case_data = pd.DataFrame(new_df_dict)\n",
    "else:\n",
    "    path = os.path.join(os.getcwd(), '..', 'data')\n",
    "    case_data = pd.read_csv(os.path.join(path, 'RKI_COVID19.csv'))\n",
    "\n",
    "case_data['date'] = pd.to_datetime(case_data['Meldedatum'])\n",
    "\n",
    "land_aggregated = case_data[['date', 'IdBundesland', 'AnzahlFall', 'AnzahlTodesfall']].groupby(['date', 'IdBundesland']).sum().reset_index()\n",
    "land_aggregated = land_aggregated.loc[land_aggregated['IdBundesland'] > 0]\n",
    "land_aggregated.sort_values(['IdBundesland', 'date'], inplace=True)\n",
    "\n",
    "land_aggregated['cases_pos_total'] = 0\n",
    "land_aggregated['cases_deceased'] = 0\n",
    "for c in land_aggregated['IdBundesland'].unique():\n",
    "    land_aggregated['cases_pos_total'].loc[land_aggregated['IdBundesland'] == c] = land_aggregated['AnzahlFall'].loc[land_aggregated['IdBundesland'] == c].cumsum()\n",
    "    land_aggregated['cases_deceased'].loc[land_aggregated['IdBundesland'] == c] = land_aggregated['AnzahlTodesfall'].loc[land_aggregated['IdBundesland'] == c].cumsum()\n",
    "\n",
    "\n",
    "rename_dict = {\n",
    "    'AnzahlFall' : 'cases_pos_new',\n",
    "    'AnzahlTodesfall' : 'cases_deceased_new'\n",
    "}\n",
    "\n",
    "land_aggregated.rename(columns=rename_dict, inplace=True)\n",
    "land_aggregated = pd.merge(land_aggregated, demographic_info, left_on='IdBundesland', right_on='Id', how='left')\n",
    "land_aggregated.to_csv(os.path.join(path, 'DE_combined_bottom_up.csv'), index=False)"
   ]
  },
  {
   "cell_type": "code",
   "execution_count": null,
   "metadata": {},
   "outputs": [],
   "source": []
  }
 ],
 "metadata": {
  "kernelspec": {
   "display_name": "Python 3",
   "language": "python",
   "name": "python3"
  },
  "language_info": {
   "codemirror_mode": {
    "name": "ipython",
    "version": 3
   },
   "file_extension": ".py",
   "mimetype": "text/x-python",
   "name": "python",
   "nbconvert_exporter": "python",
   "pygments_lexer": "ipython3",
   "version": "3.6.10"
  }
 },
 "nbformat": 4,
 "nbformat_minor": 4
}
